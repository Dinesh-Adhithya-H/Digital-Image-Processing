{
  "nbformat": 4,
  "nbformat_minor": 0,
  "metadata": {
    "colab": {
      "name": "Mathematical_Morphology_2.ipynb",
      "provenance": [],
      "authorship_tag": "ABX9TyNOwAuyI0SeIMaWP6iIVVBO",
      "include_colab_link": true
    },
    "kernelspec": {
      "name": "python3",
      "display_name": "Python 3"
    },
    "language_info": {
      "name": "python"
    }
  },
  "cells": [
    {
      "cell_type": "markdown",
      "metadata": {
        "id": "view-in-github",
        "colab_type": "text"
      },
      "source": [
        "<a href=\"https://colab.research.google.com/github/Dinesh-Adhithya-H/Digital-Image-Processing/blob/main/Mathematical_Morphology_2.ipynb\" target=\"_parent\"><img src=\"https://colab.research.google.com/assets/colab-badge.svg\" alt=\"Open In Colab\"/></a>"
      ]
    },
    {
      "cell_type": "code",
      "metadata": {
        "id": "RlER5yZ9Hd0B"
      },
      "source": [
        "import numpy as np\n",
        "from skimage import morphology\n",
        "import matplotlib.pyplot as plt\n",
        "import imageio"
      ],
      "execution_count": 1,
      "outputs": []
    },
    {
      "cell_type": "code",
      "metadata": {
        "id": "jED0QrZDHttr"
      },
      "source": [
        "s=np.zeros((7,7))\n",
        "s[3,1:6]=1\n",
        "s[1:6,2:5]=1"
      ],
      "execution_count": 2,
      "outputs": []
    },
    {
      "cell_type": "code",
      "metadata": {
        "colab": {
          "base_uri": "https://localhost:8080/"
        },
        "id": "I0r8QfTGH-cX",
        "outputId": "ecb5165a-d45c-429e-b837-f0496d73fad1"
      },
      "source": [
        "s"
      ],
      "execution_count": 3,
      "outputs": [
        {
          "output_type": "execute_result",
          "data": {
            "text/plain": [
              "array([[0., 0., 0., 0., 0., 0., 0.],\n",
              "       [0., 0., 1., 1., 1., 0., 0.],\n",
              "       [0., 0., 1., 1., 1., 0., 0.],\n",
              "       [0., 1., 1., 1., 1., 1., 0.],\n",
              "       [0., 0., 1., 1., 1., 0., 0.],\n",
              "       [0., 0., 1., 1., 1., 0., 0.],\n",
              "       [0., 0., 0., 0., 0., 0., 0.]])"
            ]
          },
          "metadata": {},
          "execution_count": 3
        }
      ]
    },
    {
      "cell_type": "code",
      "metadata": {
        "id": "E2KgQMmGH_GE"
      },
      "source": [
        "w=morphology.dilation(s,morphology.diamond(1))"
      ],
      "execution_count": 4,
      "outputs": []
    },
    {
      "cell_type": "code",
      "metadata": {
        "colab": {
          "base_uri": "https://localhost:8080/"
        },
        "id": "V3QXDKHHIIi2",
        "outputId": "6b908a58-d520-4800-e208-5c653aaeacf5"
      },
      "source": [
        "w"
      ],
      "execution_count": 5,
      "outputs": [
        {
          "output_type": "execute_result",
          "data": {
            "text/plain": [
              "array([[0., 0., 1., 1., 1., 0., 0.],\n",
              "       [0., 1., 1., 1., 1., 1., 0.],\n",
              "       [0., 1., 1., 1., 1., 1., 0.],\n",
              "       [1., 1., 1., 1., 1., 1., 1.],\n",
              "       [0., 1., 1., 1., 1., 1., 0.],\n",
              "       [0., 1., 1., 1., 1., 1., 0.],\n",
              "       [0., 0., 1., 1., 1., 0., 0.]])"
            ]
          },
          "metadata": {},
          "execution_count": 5
        }
      ]
    },
    {
      "cell_type": "code",
      "metadata": {
        "colab": {
          "base_uri": "https://localhost:8080/"
        },
        "id": "538syQoyIrgB",
        "outputId": "d1e915b1-0511-476f-ac9e-e3becbf8fe20"
      },
      "source": [
        "!wget https://raw.githubusercontent.com/maponti/imageprocessing_course_icmc/master/images/hit2.png"
      ],
      "execution_count": 6,
      "outputs": [
        {
          "output_type": "stream",
          "name": "stdout",
          "text": [
            "--2021-10-06 16:04:44--  https://raw.githubusercontent.com/maponti/imageprocessing_course_icmc/master/images/hit2.png\n",
            "Resolving raw.githubusercontent.com (raw.githubusercontent.com)... 185.199.111.133, 185.199.110.133, 185.199.109.133, ...\n",
            "Connecting to raw.githubusercontent.com (raw.githubusercontent.com)|185.199.111.133|:443... connected.\n",
            "HTTP request sent, awaiting response... 200 OK\n",
            "Length: 4656 (4.5K) [image/png]\n",
            "Saving to: ‘hit2.png’\n",
            "\n",
            "hit2.png            100%[===================>]   4.55K  --.-KB/s    in 0s      \n",
            "\n",
            "2021-10-06 16:04:45 (52.7 MB/s) - ‘hit2.png’ saved [4656/4656]\n",
            "\n"
          ]
        }
      ]
    },
    {
      "cell_type": "code",
      "metadata": {
        "id": "X5IfSt1iILiK"
      },
      "source": [
        "a=imageio.imread(\"/content/hit2.png\")"
      ],
      "execution_count": 7,
      "outputs": []
    },
    {
      "cell_type": "code",
      "metadata": {
        "colab": {
          "base_uri": "https://localhost:8080/",
          "height": 218
        },
        "id": "3CFDncETIprh",
        "outputId": "5c359787-c96d-45de-d647-f99d83f0a7aa"
      },
      "source": [
        "plt.subplot(121)\n",
        "plt.imshow(a,cmap=\"gray\")\n",
        "plt.subplot(122)\n",
        "plt.imshow(s,cmap=\"gray\")"
      ],
      "execution_count": 8,
      "outputs": [
        {
          "output_type": "execute_result",
          "data": {
            "text/plain": [
              "<matplotlib.image.AxesImage at 0x7f34cd7794d0>"
            ]
          },
          "metadata": {},
          "execution_count": 8
        },
        {
          "output_type": "display_data",
          "data": {
            "image/png": "[encoded data removed]",
            "text/plain": [
              "<Figure size 432x288 with 2 Axes>"
            ]
          },
          "metadata": {
            "needs_background": "light"
          }
        }
      ]
    },
    {
      "cell_type": "code",
      "metadata": {
        "id": "kAeQLU1fJYL1"
      },
      "source": [
        "erosion_a=morphology.erosion(a,s).astype(np.uint8)"
      ],
      "execution_count": 9,
      "outputs": []
    },
    {
      "cell_type": "code",
      "metadata": {
        "colab": {
          "base_uri": "https://localhost:8080/",
          "height": 233
        },
        "id": "LdxEGR6LKJiX",
        "outputId": "fd7e51ad-c471-49cc-d62a-b646ebe71ac2"
      },
      "source": [
        "plt.subplot(121)\n",
        "plt.imshow(a,cmap=\"gray\")\n",
        "plt.subplot(122)\n",
        "plt.imshow(erosion_a,cmap=\"gray\")\n",
        "plt.title(\"A erosion s\")"
      ],
      "execution_count": 10,
      "outputs": [
        {
          "output_type": "execute_result",
          "data": {
            "text/plain": [
              "Text(0.5, 1.0, 'A erosion s')"
            ]
          },
          "metadata": {},
          "execution_count": 10
        },
        {
          "output_type": "display_data",
          "data": {
            "image/png": "[encoded data removed]",
            "text/plain": [
              "<Figure size 432x288 with 2 Axes>"
            ]
          },
          "metadata": {
            "needs_background": "light"
          }
        }
      ]
    },
    {
      "cell_type": "code",
      "metadata": {
        "colab": {
          "base_uri": "https://localhost:8080/",
          "height": 217
        },
        "id": "hZ4RU2UgO-Ys",
        "outputId": "589f5ef0-af4a-42d4-b0aa-42ff683ade47"
      },
      "source": [
        "wminuss=w-s\n",
        "plt.subplot(121)\n",
        "plt.imshow(s,cmap=\"gray\")\n",
        "plt.subplot(122)\n",
        "plt.imshow(w-s,cmap=\"gray\")"
      ],
      "execution_count": 11,
      "outputs": [
        {
          "output_type": "execute_result",
          "data": {
            "text/plain": [
              "<matplotlib.image.AxesImage at 0x7f34cd171f10>"
            ]
          },
          "metadata": {},
          "execution_count": 11
        },
        {
          "output_type": "display_data",
          "data": {
            "image/png": "[encoded data removed]",
            "text/plain": [
              "<Figure size 432x288 with 2 Axes>"
            ]
          },
          "metadata": {
            "needs_background": "light"
          }
        }
      ]
    },
    {
      "cell_type": "code",
      "metadata": {
        "id": "L9ARZz52PrtL",
        "colab": {
          "base_uri": "https://localhost:8080/",
          "height": 233
        },
        "outputId": "e0dbb7c6-03d1-4100-d15d-9f737398c56d"
      },
      "source": [
        "acomp=(a-1).astype(np.uint8)\n",
        "plt.subplot(121)\n",
        "plt.imshow(a,cmap=\"gray\")\n",
        "plt.subplot(122)\n",
        "plt.imshow(acomp,cmap=\"gray\")\n",
        "plt.title(\"A complement\")"
      ],
      "execution_count": 13,
      "outputs": [
        {
          "output_type": "execute_result",
          "data": {
            "text/plain": [
              "Text(0.5, 1.0, 'A complement')"
            ]
          },
          "metadata": {},
          "execution_count": 13
        },
        {
          "output_type": "display_data",
          "data": {
            "image/png": "[encoded data removed]",
            "text/plain": [
              "<Figure size 432x288 with 2 Axes>"
            ]
          },
          "metadata": {
            "needs_background": "light"
          }
        }
      ]
    },
    {
      "cell_type": "code",
      "metadata": {
        "colab": {
          "base_uri": "https://localhost:8080/",
          "height": 218
        },
        "id": "rwVXQAcffO5x",
        "outputId": "00e647fe-e767-4976-d0e1-ec7b11c64ff2"
      },
      "source": [
        "acomp_w_minus_s=morphology.erosion(acomp,wminuss).astype(np.uint8)\n",
        "plt.subplot(121)\n",
        "plt.imshow(acomp,cmap=\"gray\")\n",
        "plt.subplot(122)\n",
        "plt.imshow(acomp_w_minus_s,cmap=\"gray\")"
      ],
      "execution_count": 14,
      "outputs": [
        {
          "output_type": "execute_result",
          "data": {
            "text/plain": [
              "<matplotlib.image.AxesImage at 0x7f34cc830790>"
            ]
          },
          "metadata": {},
          "execution_count": 14
        },
        {
          "output_type": "display_data",
          "data": {
            "image/png": "[encoded data removed]",
            "text/plain": [
              "<Figure size 432x288 with 2 Axes>"
            ]
          },
          "metadata": {
            "needs_background": "light"
          }
        }
      ]
    },
    {
      "cell_type": "code",
      "metadata": {
        "colab": {
          "base_uri": "https://localhost:8080/",
          "height": 298
        },
        "id": "nY8D0TW5gNWd",
        "outputId": "3c0b8e8c-cad4-4ec6-89c7-5ac621d560ad"
      },
      "source": [
        "a_hit_s=np.bitwise_and(acomp_w_minus_s==255,erosion_a==255).astype(np.uint8)\n",
        "plt.imshow(a_hit_s,cmap=\"gray\")\n",
        "plt.colorbar()\n",
        "plt.title(\"hit_or_miss\")"
      ],
      "execution_count": 17,
      "outputs": [
        {
          "output_type": "execute_result",
          "data": {
            "text/plain": [
              "Text(0.5, 1.0, 'hit_or_miss')"
            ]
          },
          "metadata": {},
          "execution_count": 17
        },
        {
          "output_type": "display_data",
          "data": {
            "image/png": "[encoded data removed]",
            "text/plain": [
              "<Figure size 432x288 with 2 Axes>"
            ]
          },
          "metadata": {
            "needs_background": "light"
          }
        }
      ]
    },
    {
      "cell_type": "code",
      "metadata": {
        "id": "hkQ_u9SGgt_M"
      },
      "source": [
        ""
      ],
      "execution_count": null,
      "outputs": []
    }
  ]
}