{
  "nbformat": 4,
  "nbformat_minor": 0,
  "metadata": {
    "colab": {
      "name": "Fast_Fourier_Transform.ipynb",
      "provenance": [],
      "authorship_tag": "ABX9TyNb577noy3/54UsIduoX0OI",
      "include_colab_link": true
    },
    "kernelspec": {
      "name": "python3",
      "display_name": "Python 3"
    },
    "language_info": {
      "name": "python"
    }
  },
  "cells": [
    {
      "cell_type": "markdown",
      "metadata": {
        "id": "view-in-github",
        "colab_type": "text"
      },
      "source": [
        "<a href=\"https://colab.research.google.com/github/Dinesh-Adhithya-H/Digital-Image-Processing/blob/main/Fast_Fourier_Transform.ipynb\" target=\"_parent\"><img src=\"https://colab.research.google.com/assets/colab-badge.svg\" alt=\"Open In Colab\"/></a>"
      ]
    },
    {
      "cell_type": "code",
      "metadata": {
        "id": "iLOY4hWWHQyS"
      },
      "source": [
        "import numpy as np\n",
        "import imageio\n",
        "import matplotlib.pyplot as plt\n",
        "import time\n",
        "from cmath import exp,pi"
      ],
      "execution_count": null,
      "outputs": []
    },
    {
      "cell_type": "code",
      "metadata": {
        "colab": {
          "base_uri": "https://localhost:8080/"
        },
        "id": "kJv2P4OcHfSh",
        "outputId": "d0e6aed4-4360-4657-ebff-e3f79b467b42"
      },
      "source": [
        "n=4\n",
        "w=exp(-1j*2*pi/n)\n",
        "print(w)"
      ],
      "execution_count": null,
      "outputs": [
        {
          "output_type": "stream",
          "name": "stdout",
          "text": [
            "(6.123233995736766e-17-1j)\n"
          ]
        }
      ]
    },
    {
      "cell_type": "code",
      "metadata": {
        "colab": {
          "base_uri": "https://localhost:8080/"
        },
        "id": "3jFs8eghHoOf",
        "outputId": "8e1f5563-c710-4907-d2cb-5955cc26a248"
      },
      "source": [
        "n=4\n",
        "f=[0,100,200,300]\n",
        "f"
      ],
      "execution_count": null,
      "outputs": [
        {
          "output_type": "execute_result",
          "data": {
            "text/plain": [
              "[0, 100, 200, 300]"
            ]
          },
          "metadata": {},
          "execution_count": 3
        }
      ]
    },
    {
      "cell_type": "code",
      "metadata": {
        "colab": {
          "base_uri": "https://localhost:8080/"
        },
        "id": "aCIDzp0cH9yN",
        "outputId": "eadfc08e-8990-442d-9b1e-83362adb6e42"
      },
      "source": [
        "f_even=f[0::2]\n",
        "f_odd=f[1::2]\n",
        "f_even,f_odd"
      ],
      "execution_count": null,
      "outputs": [
        {
          "output_type": "execute_result",
          "data": {
            "text/plain": [
              "([0, 200], [100, 300])"
            ]
          },
          "metadata": {},
          "execution_count": 4
        }
      ]
    },
    {
      "cell_type": "code",
      "metadata": {
        "colab": {
          "base_uri": "https://localhost:8080/"
        },
        "id": "fOv22zHQIsGl",
        "outputId": "67249286-2798-43b4-d746-4226ee7cfab3"
      },
      "source": [
        "f_even_even=f_even[0::2]\n",
        "f_even_odd=f_even[1::2]\n",
        "f_even_even,f_even_odd"
      ],
      "execution_count": null,
      "outputs": [
        {
          "output_type": "execute_result",
          "data": {
            "text/plain": [
              "([0], [200])"
            ]
          },
          "metadata": {},
          "execution_count": 6
        }
      ]
    },
    {
      "cell_type": "code",
      "metadata": {
        "colab": {
          "base_uri": "https://localhost:8080/"
        },
        "id": "iLojRvVDIEsh",
        "outputId": "cee90b4b-db7d-4f2b-f812-ce00bf5865ea"
      },
      "source": [
        "reseven0=f_even_even[0]+exp(-2j*pi*0/n)*f_even_odd[0]\n",
        "reseven1=f_even_even[0]-exp(-2j*pi*0/n)*f_even_odd[0]\n",
        "reseven=[reseven0,reseven1]\n",
        "reseven"
      ],
      "execution_count": null,
      "outputs": [
        {
          "output_type": "execute_result",
          "data": {
            "text/plain": [
              "[(200+0j), (-200+0j)]"
            ]
          },
          "metadata": {},
          "execution_count": 7
        }
      ]
    },
    {
      "cell_type": "code",
      "metadata": {
        "id": "iWoeV8uQJbLQ"
      },
      "source": [
        "def FFT(f):\n",
        "  n=len(f)\n",
        "  if n<=1:\n",
        "    return f\n",
        "  odd=FFT(f[0::2])\n",
        "  even=FFT(f[1::2])\n",
        "\n",
        "  temp=np.zeros(n).astype(np.complex64)\n",
        "\n",
        "  for u in range(n//2):\n",
        "    temp[u]=even[u]+exp(-2j*pi*u/n)*odd[u]\n",
        "    temp[u+n//2]=even[u]-exp(-2j*pi*u/n)*odd[u]\n",
        "\n",
        "  return temp"
      ],
      "execution_count": null,
      "outputs": []
    },
    {
      "cell_type": "code",
      "metadata": {
        "id": "tKykX0biNc27"
      },
      "source": [
        "t=np.arange(0,2,0.01)\n",
        "f=np.sin(2*np.pi*t*4)"
      ],
      "execution_count": null,
      "outputs": []
    },
    {
      "cell_type": "code",
      "metadata": {
        "id": "q9ABE03zMXmO"
      },
      "source": [
        "start=time.time()\n",
        "fft=FFT(f)\n",
        "end=time.time()\n",
        "#print(fft)"
      ],
      "execution_count": null,
      "outputs": []
    },
    {
      "cell_type": "code",
      "metadata": {
        "colab": {
          "base_uri": "https://localhost:8080/"
        },
        "id": "9mVFK6dNNrSE",
        "outputId": "7faaf021-0bf8-4243-883d-432676822159"
      },
      "source": [
        "end-start"
      ],
      "execution_count": null,
      "outputs": [
        {
          "output_type": "execute_result",
          "data": {
            "text/plain": [
              "0.012681722640991211"
            ]
          },
          "metadata": {},
          "execution_count": 28
        }
      ]
    },
    {
      "cell_type": "code",
      "metadata": {
        "id": "FD09sNB9Mn9-"
      },
      "source": [
        "def DFT_1D(f):\n",
        "  F=np.zeros(f.shape,dtype=np.complex64)\n",
        "  n=f.shape[0]\n",
        "  for u in np.arange(n):\n",
        "    for x in np.arange(n):\n",
        "      F[u]+=f[x]*np.exp(-1j*2*np.pi*u*x/n)\n",
        "  return F/np.sqrt(n)"
      ],
      "execution_count": null,
      "outputs": []
    },
    {
      "cell_type": "code",
      "metadata": {
        "id": "J7r6dA5wM067"
      },
      "source": [
        "start=time.time()\n",
        "fft1=DFT_1D(np.array(f))\n",
        "end=time.time()\n",
        "#print(fft1)"
      ],
      "execution_count": null,
      "outputs": []
    },
    {
      "cell_type": "code",
      "metadata": {
        "colab": {
          "base_uri": "https://localhost:8080/"
        },
        "id": "esMyfMSxNFF3",
        "outputId": "95787430-fc94-4373-fa87-34ab0d6a6269"
      },
      "source": [
        "end-start # elapsed time."
      ],
      "execution_count": null,
      "outputs": [
        {
          "output_type": "execute_result",
          "data": {
            "text/plain": [
              "0.40598559379577637"
            ]
          },
          "metadata": {},
          "execution_count": 31
        }
      ]
    },
    {
      "cell_type": "code",
      "metadata": {
        "id": "fGnkc8GVOEDY"
      },
      "source": [
        ""
      ],
      "execution_count": null,
      "outputs": []
    }
  ]
}